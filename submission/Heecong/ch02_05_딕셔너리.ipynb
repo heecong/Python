{
  "nbformat": 4,
  "nbformat_minor": 0,
  "metadata": {
    "colab": {
      "provenance": [],
      "include_colab_link": true
    },
    "kernelspec": {
      "name": "python3",
      "display_name": "Python 3"
    },
    "language_info": {
      "name": "python"
    }
  },
  "cells": [
    {
      "cell_type": "markdown",
      "metadata": {
        "id": "view-in-github",
        "colab_type": "text"
      },
      "source": [
        "<a href=\"https://colab.research.google.com/github/heecong/Python/blob/main/submission/Heecong/ch02_05_%EB%94%95%EC%85%94%EB%84%88%EB%A6%AC.ipynb\" target=\"_parent\"><img src=\"https://colab.research.google.com/assets/colab-badge.svg\" alt=\"Open In Colab\"/></a>"
      ]
    },
    {
      "cell_type": "markdown",
      "source": [
        "# 딕셔너리"
      ],
      "metadata": {
        "id": "5_1D4gsPECsO"
      }
    },
    {
      "cell_type": "markdown",
      "source": [
        "지금까지 살펴봤던 리스트와 튜플은 값 여러 개를 일렬로 저장할 뿐 값끼리 연관 관계가 없었습니다. 예를 들어 게임 캐릭터의 능력치를 리스트에 저장해보겠습니다."
      ],
      "metadata": {
        "id": "kareiFOzEJY8"
      }
    },
    {
      "cell_type": "code",
      "execution_count": 1,
      "metadata": {
        "id": "_3HKSboNDxcu"
      },
      "outputs": [],
      "source": [
        "lux = [490, 334, 550, 18.72]"
      ]
    },
    {
      "cell_type": "markdown",
      "source": [
        "리스트 lux에서 인덱스 0은 체력, 인덱스 1은 마나, 인덱스 2는 사거리, 인덱스 3은 방어력이라고 했을 때 리스트만 봐서는 각 값이 어떤 능력치인지 쉽게 알기가 힘듭니다.\n",
        "\n",
        "파이썬에서는 연관된 값을 묶어서 저장하는 용도로 딕셔너리라는 자료형을 제공합니다. 그럼 게임 캐릭터의 능력치를 딕셔너리에 저장해보겠습니다."
      ],
      "metadata": {
        "id": "L6E3GgYOENay"
      }
    },
    {
      "cell_type": "code",
      "source": [
        "lux = {'health' : 490, \"mana\": 334, \"melee\":550, \"armor\": 18.72}"
      ],
      "metadata": {
        "id": "DRjkOHyKELs0"
      },
      "execution_count": 2,
      "outputs": []
    },
    {
      "cell_type": "markdown",
      "source": [
        "이제 딕셔너리만 봐도 lux라는 캐릭터의 체력(health)은 490, 마나(mana)는 334, 사거리(melee)는 550, 방어력(armor)은 18.72라는 것을 쉽게 알 수 있습니다. 이처럼 딕셔너리는 값마다 이름을 붙여서 저장하는 방식입니다.\n",
        "\n",
        "즉, 사전(dictionary)에서 단어를 찾듯이 값을 가져올 수 있다고 하여 딕셔너리라고 부릅니다.\n",
        "\n",
        "이번 유닛부터 딕셔너리를 만드는 방법과 기본 사용 방법을 알아보겠습니다."
      ],
      "metadata": {
        "id": "cC3FK2B2EQIJ"
      }
    },
    {
      "cell_type": "markdown",
      "source": [
        "## 딕셔너리 만들기"
      ],
      "metadata": {
        "id": "zbfwD9ufEUqi"
      }
    },
    {
      "cell_type": "markdown",
      "source": [
        "딕셔너리는 { }(중괄호) 안에 키: 값 형식으로 저장하며 각 키와 값은 ,(콤마)로 구분해줍니다.\n",
        "\n",
        "* `딕셔너리 = {키1: 값1, 키2: 값2}`"
      ],
      "metadata": {
        "id": "IRYM7mh5EXCk"
      }
    },
    {
      "cell_type": "code",
      "source": [
        "# 그럼 키와 값이 4개씩 들어있는 딕셔너리를 만들어보겠습니다\n",
        "kim = { \"name\": \"jhone\", \"job\": \"programmer\", \"pet\": \"cat\", \"height\": 170, \"weight\": 80}\n",
        "kim"
      ],
      "metadata": {
        "colab": {
          "base_uri": "https://localhost:8080/"
        },
        "id": "cmWs27ZREPgi",
        "outputId": "500fb399-e92c-41e7-f8d6-d26431c0c682"
      },
      "execution_count": 3,
      "outputs": [
        {
          "output_type": "execute_result",
          "data": {
            "text/plain": [
              "{'name': 'jhone',\n",
              " 'job': 'programmer',\n",
              " 'pet': 'cat',\n",
              " 'height': 170,\n",
              " 'weight': 80}"
            ]
          },
          "metadata": {},
          "execution_count": 3
        }
      ]
    },
    {
      "cell_type": "markdown",
      "source": [
        "딕셔너리는 키를 먼저 지정하고 :(콜론)을 붙여서 값을 표현합니다. 특히 키에는 값을 하나만 지정할 수 있으며 이런 특성을 따서 키-값 쌍(key-value pair)이라 부릅니다(키-값은 1:1 대응)."
      ],
      "metadata": {
        "id": "H4rbhhUfExpO"
      }
    },
    {
      "cell_type": "markdown",
      "source": [
        "### 키 이름이 중복되면?"
      ],
      "metadata": {
        "id": "TPkyl8YPEzjT"
      }
    },
    {
      "cell_type": "code",
      "source": [
        "lee = {\"money\": 600, \"dept\": 2000, \"money\": 400}\n",
        "lee[\"money\"] # 키는 인덱스와 유사, 특정한 값을 키를 통해서 불러올 수 있음"
      ],
      "metadata": {
        "colab": {
          "base_uri": "https://localhost:8080/"
        },
        "id": "5vqexJh1Ectd",
        "outputId": "36a00e5a-05e8-493e-de73-79fc9c54273d"
      },
      "execution_count": 4,
      "outputs": [
        {
          "output_type": "execute_result",
          "data": {
            "text/plain": [
              "400"
            ]
          },
          "metadata": {},
          "execution_count": 4
        }
      ]
    },
    {
      "cell_type": "code",
      "source": [
        "lee"
      ],
      "metadata": {
        "colab": {
          "base_uri": "https://localhost:8080/"
        },
        "id": "MuYYzco0E5Lb",
        "outputId": "d536f70f-4514-4460-f6dd-0f332ab5dda6"
      },
      "execution_count": 5,
      "outputs": [
        {
          "output_type": "execute_result",
          "data": {
            "text/plain": [
              "{'money': 400, 'dept': 2000}"
            ]
          },
          "metadata": {},
          "execution_count": 5
        }
      ]
    },
    {
      "cell_type": "markdown",
      "source": [
        "### 딕셔너리 키의 자료형"
      ],
      "metadata": {
        "id": "TOB_9hDlE_j7"
      }
    },
    {
      "cell_type": "markdown",
      "source": [
        "딕셔너리의 키는 문자열뿐만 아니라 정수, 실수, 불도 사용할 수 있으며 자료형을 섞어서 사용해도 됩니다. 그리고 값에는 리스트, 딕셔너리 등을 포함하여 모든 자료형을 사용할 수 있습니다."
      ],
      "metadata": {
        "id": "_2Ur30DzFBav"
      }
    },
    {
      "cell_type": "code",
      "source": [
        "{\n",
        "    1: \"One\",\n",
        "    True: \"True\",\n",
        "    0.1: \"Zero Porint One\",\n",
        "    \"Text\": \"TEXT\",\n",
        "    \"list\": [1, 2],\n",
        "    \"dict\": {\"a\", \"b\"}\n",
        "} # 키값 : 정수, 실수, bool, 문자열"
      ],
      "metadata": {
        "colab": {
          "base_uri": "https://localhost:8080/"
        },
        "id": "y2Xe9eCpFC6b",
        "outputId": "0cc1c007-6623-4169-de60-508225a77768"
      },
      "execution_count": 8,
      "outputs": [
        {
          "output_type": "execute_result",
          "data": {
            "text/plain": [
              "{1: 'True',\n",
              " 0.1: 'Zero Porint One',\n",
              " 'Text': 'TEXT',\n",
              " 'list': [1, 2],\n",
              " 'dict': {'a', 'b'}}"
            ]
          },
          "metadata": {},
          "execution_count": 8
        }
      ]
    },
    {
      "cell_type": "code",
      "source": [
        "# 단, 키에는 리스트와 딕셔너리를 사용할 수 없습니다.\n",
        "x = {\n",
        "    [1, 2]: 100\n",
        "}"
      ],
      "metadata": {
        "colab": {
          "base_uri": "https://localhost:8080/",
          "height": 227
        },
        "id": "jDXj_ZjSFE_w",
        "outputId": "bd964445-f1d2-4340-a332-d2228d3e0063"
      },
      "execution_count": 7,
      "outputs": [
        {
          "output_type": "error",
          "ename": "TypeError",
          "evalue": "ignored",
          "traceback": [
            "\u001b[0;31m---------------------------------------------------------------------------\u001b[0m",
            "\u001b[0;31mTypeError\u001b[0m                                 Traceback (most recent call last)",
            "\u001b[0;32m<ipython-input-7-f10255005c39>\u001b[0m in \u001b[0;36m<module>\u001b[0;34m\u001b[0m\n\u001b[1;32m      1\u001b[0m \u001b[0;31m# 단, 키에는 리스트와 딕셔너리를 사용할 수 없습니다.\u001b[0m\u001b[0;34m\u001b[0m\u001b[0;34m\u001b[0m\u001b[0;34m\u001b[0m\u001b[0m\n\u001b[0;32m----> 2\u001b[0;31m x = {\n\u001b[0m\u001b[1;32m      3\u001b[0m     \u001b[0;34m[\u001b[0m\u001b[0;36m1\u001b[0m\u001b[0;34m,\u001b[0m \u001b[0;36m2\u001b[0m\u001b[0;34m]\u001b[0m\u001b[0;34m:\u001b[0m \u001b[0;36m100\u001b[0m\u001b[0;34m\u001b[0m\u001b[0;34m\u001b[0m\u001b[0m\n\u001b[1;32m      4\u001b[0m }\n",
            "\u001b[0;31mTypeError\u001b[0m: unhashable type: 'list'"
          ]
        }
      ]
    },
    {
      "cell_type": "code",
      "source": [
        "x = {\n",
        "    {1: 2}: 100\n",
        "}"
      ],
      "metadata": {
        "colab": {
          "base_uri": "https://localhost:8080/",
          "height": 209
        },
        "id": "eEGBPbR8FRN4",
        "outputId": "7718c2ac-2d93-4f05-e901-e5f9f32dd4bf"
      },
      "execution_count": 13,
      "outputs": [
        {
          "output_type": "error",
          "ename": "TypeError",
          "evalue": "ignored",
          "traceback": [
            "\u001b[0;31m---------------------------------------------------------------------------\u001b[0m",
            "\u001b[0;31mTypeError\u001b[0m                                 Traceback (most recent call last)",
            "\u001b[0;32m<ipython-input-13-df889684f59d>\u001b[0m in \u001b[0;36m<module>\u001b[0;34m\u001b[0m\n\u001b[0;32m----> 1\u001b[0;31m x = {\n\u001b[0m\u001b[1;32m      2\u001b[0m     \u001b[0;34m{\u001b[0m\u001b[0;36m1\u001b[0m\u001b[0;34m:\u001b[0m \u001b[0;36m2\u001b[0m\u001b[0;34m}\u001b[0m\u001b[0;34m:\u001b[0m \u001b[0;36m100\u001b[0m\u001b[0;34m\u001b[0m\u001b[0;34m\u001b[0m\u001b[0m\n\u001b[1;32m      3\u001b[0m }\n",
            "\u001b[0;31mTypeError\u001b[0m: unhashable type: 'dict'"
          ]
        }
      ]
    },
    {
      "cell_type": "code",
      "source": [
        "# 근데 튜플은 됩니다.\n",
        "# {\n",
        "#    [\"a\", 1]: 100\n",
        "# }\n",
        "{\n",
        "    (\"a\", 1): 100\n",
        "}"
      ],
      "metadata": {
        "colab": {
          "base_uri": "https://localhost:8080/"
        },
        "id": "S5hmnDACFTgm",
        "outputId": "53000d08-f4ee-4b0d-c4ae-759403513d53"
      },
      "execution_count": 12,
      "outputs": [
        {
          "output_type": "execute_result",
          "data": {
            "text/plain": [
              "{('a', 1): 100}"
            ]
          },
          "metadata": {},
          "execution_count": 12
        }
      ]
    },
    {
      "cell_type": "markdown",
      "source": [
        "### 빈 딕셔너리 만들기"
      ],
      "metadata": {
        "id": "ZA8DGLSJFmNQ"
      }
    },
    {
      "cell_type": "markdown",
      "source": [
        "빈 딕셔너리를 만들 때는 { }만 지정하거나 dict를 사용하면 됩니다. 보통은 { }를 주로 사용합니다.\n",
        "\n",
        "* `딕셔너리 = {}`\n",
        "* `딕셔너리 = dict()`"
      ],
      "metadata": {
        "id": "EiSUoz3EFo1J"
      }
    },
    {
      "cell_type": "code",
      "source": [
        "x = {}\n",
        "x"
      ],
      "metadata": {
        "colab": {
          "base_uri": "https://localhost:8080/"
        },
        "id": "qy12louTFkop",
        "outputId": "29582909-7fb3-4ae8-aece-3bf1cdad4a92"
      },
      "execution_count": 14,
      "outputs": [
        {
          "output_type": "execute_result",
          "data": {
            "text/plain": [
              "{}"
            ]
          },
          "metadata": {},
          "execution_count": 14
        }
      ]
    },
    {
      "cell_type": "code",
      "source": [
        "y = dict()\n",
        "y"
      ],
      "metadata": {
        "colab": {
          "base_uri": "https://localhost:8080/"
        },
        "id": "m8SyPBtoFvJk",
        "outputId": "1a815070-06a2-40bf-96cd-484467e6dc6a"
      },
      "execution_count": null,
      "outputs": [
        {
          "output_type": "execute_result",
          "data": {
            "text/plain": [
              "{}"
            ]
          },
          "metadata": {},
          "execution_count": 11
        }
      ]
    },
    {
      "cell_type": "markdown",
      "source": [
        "## 딕셔너리의 키에 접근하고 값 할당하기"
      ],
      "metadata": {
        "id": "lxv59re1GIYe"
      }
    },
    {
      "cell_type": "code",
      "source": [
        "# 딕셔너리의 키에 접근할 때는 딕셔너리 뒤에 [ ](대괄호)를 사용하며 [ ] 안에 키를 지정해주면 됩니다.\n",
        "park = { \"address\": \"서울시 영등포구 어딘가\", \"car\": \"모닝\", \"salary\": 3000}\n",
        "park[\"address\"], park[\"car\"], park[\"salary\"]"
      ],
      "metadata": {
        "colab": {
          "base_uri": "https://localhost:8080/"
        },
        "id": "2sbEDhgRGMTI",
        "outputId": "50e92d3c-c983-4837-95d5-4c11d567b776"
      },
      "execution_count": 16,
      "outputs": [
        {
          "output_type": "execute_result",
          "data": {
            "text/plain": [
              "('서울시 영등포구 어딘가', '모닝', 3000)"
            ]
          },
          "metadata": {},
          "execution_count": 16
        }
      ]
    },
    {
      "cell_type": "code",
      "source": [],
      "metadata": {
        "colab": {
          "base_uri": "https://localhost:8080/"
        },
        "id": "v9Zv9nMWGRek",
        "outputId": "9b6ef891-cf0f-4fa4-8ce0-6e84c3b19851"
      },
      "execution_count": null,
      "outputs": [
        {
          "output_type": "execute_result",
          "data": {
            "text/plain": [
              "18.72"
            ]
          },
          "metadata": {},
          "execution_count": 13
        }
      ]
    },
    {
      "cell_type": "markdown",
      "source": [
        "### 딕셔너리에 키를 지정하지 않으면?"
      ],
      "metadata": {
        "id": "LNYK_spGGTAv"
      }
    },
    {
      "cell_type": "code",
      "source": [
        "# 딕셔너리에 키를 지정하지 않은 상태는 해당 딕셔너리 전체를 뜻합니다.\n",
        "# 따라서 다음과 같이 딕셔너리 park를 출력하면 { }를 포함하여 딕셔너리 전체가 출력됩니다.\n",
        "park"
      ],
      "metadata": {
        "colab": {
          "base_uri": "https://localhost:8080/"
        },
        "id": "W5BH7KSaGSKK",
        "outputId": "4de2252d-e805-4712-e0fd-071e687b6884"
      },
      "execution_count": 17,
      "outputs": [
        {
          "output_type": "execute_result",
          "data": {
            "text/plain": [
              "{'address': '서울시 영등포구 어딘가', 'car': '모닝', 'salary': 3000}"
            ]
          },
          "metadata": {},
          "execution_count": 17
        }
      ]
    },
    {
      "cell_type": "markdown",
      "source": [
        "### 딕셔너리의 키에 값 할당하기"
      ],
      "metadata": {
        "id": "e3zy1seWGds-"
      }
    },
    {
      "cell_type": "markdown",
      "source": [
        "이제 딕셔너리의 키에 값을 할당해보겠습니다. 딕셔너리는 [ ]로 키에 접근한 뒤 값을 할당합니다.\n",
        "* `딕셔너리[키] = 값`"
      ],
      "metadata": {
        "id": "yZDlabtuGfOe"
      }
    },
    {
      "cell_type": "code",
      "source": [
        "# 기존의 (키 값의) 존재 여부와 상관없이 추가할 수 있다.\n",
        "park[\"address\"] = \"서울시 동작구 어딘가\"\n",
        "park"
      ],
      "metadata": {
        "colab": {
          "base_uri": "https://localhost:8080/"
        },
        "id": "2Bs3CjRcGZ3C",
        "outputId": "f5565564-e35d-44be-97d6-48532319708b"
      },
      "execution_count": 18,
      "outputs": [
        {
          "output_type": "execute_result",
          "data": {
            "text/plain": [
              "{'address': '서울시 동작구 어딘가', 'car': '모닝', 'salary': 3000}"
            ]
          },
          "metadata": {},
          "execution_count": 18
        }
      ]
    },
    {
      "cell_type": "markdown",
      "source": [
        "딕셔너리에서 키의 값을 출력할 때와 마찬가지로 [ ]에 키를 지정한 뒤 값을 할당하면 됩니다. 특히 딕셔너리는 없는 키에 값을 할당하면 해당 키가 추가되고 값이 할당됩니다."
      ],
      "metadata": {
        "id": "7DFTD_OAGoe_"
      }
    },
    {
      "cell_type": "code",
      "source": [
        "park[\"children\"] = 1\n",
        "park"
      ],
      "metadata": {
        "colab": {
          "base_uri": "https://localhost:8080/"
        },
        "id": "zUZO1C_tGm7C",
        "outputId": "868fe23c-e8be-4623-da7b-260721361267"
      },
      "execution_count": 19,
      "outputs": [
        {
          "output_type": "execute_result",
          "data": {
            "text/plain": [
              "{'address': '서울시 동작구 어딘가', 'car': '모닝', 'salary': 3000, 'children': 1}"
            ]
          },
          "metadata": {},
          "execution_count": 19
        }
      ]
    },
    {
      "cell_type": "code",
      "source": [
        "# 그럼 없는 키에서 값을 가져오려고 하면 어떻게 될까요?\n",
        "park[\"cigarette\"]"
      ],
      "metadata": {
        "colab": {
          "base_uri": "https://localhost:8080/",
          "height": 190
        },
        "id": "hBQTMjKNGqpZ",
        "outputId": "d804f0ba-29b6-4cd9-c736-619af050bbd8"
      },
      "execution_count": 20,
      "outputs": [
        {
          "output_type": "error",
          "ename": "KeyError",
          "evalue": "ignored",
          "traceback": [
            "\u001b[0;31m---------------------------------------------------------------------------\u001b[0m",
            "\u001b[0;31mKeyError\u001b[0m                                  Traceback (most recent call last)",
            "\u001b[0;32m<ipython-input-20-2fb64fb296ce>\u001b[0m in \u001b[0;36m<module>\u001b[0;34m\u001b[0m\n\u001b[1;32m      1\u001b[0m \u001b[0;31m# 그럼 없는 키에서 값을 가져오려고 하면 어떻게 될까요?\u001b[0m\u001b[0;34m\u001b[0m\u001b[0;34m\u001b[0m\u001b[0;34m\u001b[0m\u001b[0m\n\u001b[0;32m----> 2\u001b[0;31m \u001b[0mpark\u001b[0m\u001b[0;34m[\u001b[0m\u001b[0;34m\"cigarette\"\u001b[0m\u001b[0;34m]\u001b[0m\u001b[0;34m\u001b[0m\u001b[0;34m\u001b[0m\u001b[0m\n\u001b[0m",
            "\u001b[0;31mKeyError\u001b[0m: 'cigarette'"
          ]
        }
      ]
    },
    {
      "cell_type": "markdown",
      "source": [
        "### 딕셔너리에 키가 있는지 확인하기"
      ],
      "metadata": {
        "id": "JH3WwXv-GytW"
      }
    },
    {
      "cell_type": "markdown",
      "source": [
        "딕셔너리에서 키가 있는지 확인하고 싶다면 in 연산자를 사용하면 됩니다.\n",
        "\n",
        "* `키 in 딕셔너리`"
      ],
      "metadata": {
        "id": "25CdHFDaG2lC"
      }
    },
    {
      "cell_type": "code",
      "source": [
        "\"children\" in park # children이라는 Key가 있는지를 확인"
      ],
      "metadata": {
        "colab": {
          "base_uri": "https://localhost:8080/"
        },
        "id": "isXPQXj_GvkK",
        "outputId": "eb77ad92-f980-41f3-dcd4-5c87e4407dde"
      },
      "execution_count": 21,
      "outputs": [
        {
          "output_type": "execute_result",
          "data": {
            "text/plain": [
              "True"
            ]
          },
          "metadata": {},
          "execution_count": 21
        }
      ]
    },
    {
      "cell_type": "code",
      "source": [
        "\"boat\" in park # boat라는 Key가 있는지 확인"
      ],
      "metadata": {
        "id": "dkjw2x4HzY6t"
      },
      "execution_count": null,
      "outputs": []
    },
    {
      "cell_type": "markdown",
      "source": [
        "이처럼 딕셔너리에 특정 키가 있으면 True, 없으면 False가 나옵니다. 딕셔너리 lux에 키 'health'가 있으므로 True, 'attack_speed'가 없으므로 False가 나왔습니다.\n",
        "\n",
        "반대로 in 앞에 not을 붙이면 특정 키가 없는지 확인합니다."
      ],
      "metadata": {
        "id": "WBlHkSS2G_z7"
      }
    },
    {
      "cell_type": "code",
      "source": [
        "\"children\" not in park, \"boat\" not in park"
      ],
      "metadata": {
        "colab": {
          "base_uri": "https://localhost:8080/"
        },
        "id": "-CUgcJAiG9Mu",
        "outputId": "8718bb0b-3ee1-4dc7-83db-5f954a6eac0a"
      },
      "execution_count": 23,
      "outputs": [
        {
          "output_type": "execute_result",
          "data": {
            "text/plain": [
              "(False, True)"
            ]
          },
          "metadata": {},
          "execution_count": 23
        }
      ]
    },
    {
      "cell_type": "code",
      "source": [
        "if \"변영인\" in meal:\n",
        "  print(\"변영인과 이미 밥을 먹었네요!\")\n",
        "  meal[\"변영인\"] += 1\n",
        "else:\n",
        "  print(\"변영인과 첫 끼네요!\")\n",
        "  meal[\"변영인\"] = 1\n",
        "meal"
      ],
      "metadata": {
        "colab": {
          "base_uri": "https://localhost:8080/"
        },
        "id": "Hii09v4MzlaU",
        "outputId": "94aea69a-d0fd-407d-caf8-ed17dd67a326"
      },
      "execution_count": 26,
      "outputs": [
        {
          "output_type": "stream",
          "name": "stdout",
          "text": [
            "변영인과 이미 밥을 먹었네요!\n"
          ]
        },
        {
          "output_type": "execute_result",
          "data": {
            "text/plain": [
              "{'변영인': 2}"
            ]
          },
          "metadata": {},
          "execution_count": 26
        }
      ]
    },
    {
      "cell_type": "code",
      "source": [
        "name = input(\"같이 밥을 먹은 사람을 적어주세요: \")\n",
        "\n",
        "if name in meal:\n",
        "  print(name + \"과 이미 밥을 먹었네요!\")\n",
        "  meal[name] += 1\n",
        "else:\n",
        "  print(name + \"과 첫 끼네요!\")\n",
        "  meal[name] = 1\n",
        "meal"
      ],
      "metadata": {
        "colab": {
          "base_uri": "https://localhost:8080/"
        },
        "id": "GrNf-xal0PLu",
        "outputId": "5b4ba836-aaef-46fb-d507-8c68f13a9fdc"
      },
      "execution_count": 29,
      "outputs": [
        {
          "output_type": "stream",
          "name": "stdout",
          "text": [
            "같이 밥을 먹은 사람을 적어주세요: 이영미\n",
            "이영미과 첫 끼네요!\n"
          ]
        },
        {
          "output_type": "execute_result",
          "data": {
            "text/plain": [
              "{'변영인': 2, '이영미': 1}"
            ]
          },
          "metadata": {},
          "execution_count": 29
        }
      ]
    },
    {
      "cell_type": "markdown",
      "source": [
        "### 해시"
      ],
      "metadata": {
        "id": "FzIhkpafHKWo"
      }
    },
    {
      "cell_type": "markdown",
      "source": [
        "딕셔너리는 해시(Hash) 기법을 이용해서 데이터를 저장합니다. 보통 딕셔너리와 같은 키-값 형태의 자료형을 해시, 해시 맵, 해시테이블 등으로 부르기도 합니다."
      ],
      "metadata": {
        "id": "yCHxqYxzHL_N"
      }
    },
    {
      "cell_type": "markdown",
      "source": [
        "### 딕셔너리의 키 개수 구하기"
      ],
      "metadata": {
        "id": "Y1md8d1JHdlV"
      }
    },
    {
      "cell_type": "markdown",
      "source": [
        "딕셔너리를 사용하다 보면 딕셔너리의 키 개수(길이)를 구할 필요가 있습니다. 딕셔너리의 키와 값을 직접 타이핑할 때는 키의 개수를 알기가 쉽습니다. 하지만 실무에서는 함수 등을 사용해서 딕셔너리를 생성하거나 키를 추가하기 때문에 키의 개수가 눈에 보이지 않습니다. 따라서 다음과 같이 키의 개수는 len 함수를 사용하여 구합니다(키와 값은 1:1 관계이므로 키의 개수는 곧 값의 개수입니다).\n",
        "\n",
        "* `len(딕셔너리)`"
      ],
      "metadata": {
        "id": "ZYc1fYhxHgPS"
      }
    },
    {
      "cell_type": "code",
      "source": [
        "park, len(park)"
      ],
      "metadata": {
        "colab": {
          "base_uri": "https://localhost:8080/"
        },
        "id": "HbuOX4E0HECT",
        "outputId": "76b5bc9f-7478-411e-bf28-0e8763a0895c"
      },
      "execution_count": 30,
      "outputs": [
        {
          "output_type": "execute_result",
          "data": {
            "text/plain": [
              "({'address': '서울시 동작구 어딘가', 'car': '모닝', 'salary': 3000, 'children': 1}, 4)"
            ]
          },
          "metadata": {},
          "execution_count": 30
        }
      ]
    }
  ]
}