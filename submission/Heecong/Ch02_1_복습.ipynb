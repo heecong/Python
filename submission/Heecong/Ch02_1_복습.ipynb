{
  "nbformat": 4,
  "nbformat_minor": 0,
  "metadata": {
    "colab": {
      "provenance": [],
      "authorship_tag": "ABX9TyMDyR8BRBDMbNKDw4Av/cHh",
      "include_colab_link": true
    },
    "kernelspec": {
      "name": "python3",
      "display_name": "Python 3"
    },
    "language_info": {
      "name": "python"
    }
  },
  "cells": [
    {
      "cell_type": "markdown",
      "metadata": {
        "id": "view-in-github",
        "colab_type": "text"
      },
      "source": [
        "<a href=\"https://colab.research.google.com/github/heecong/Python/blob/main/submission/Heecong/Ch02_1_%EB%B3%B5%EC%8A%B5.ipynb\" target=\"_parent\"><img src=\"https://colab.research.google.com/assets/colab-badge.svg\" alt=\"Open In Colab\"/></a>"
      ]
    },
    {
      "cell_type": "code",
      "source": [
        "# 불\n",
        "True, False # 참, 거짓, true, false"
      ],
      "metadata": {
        "colab": {
          "base_uri": "https://localhost:8080/"
        },
        "id": "1IUVEn4gvD2K",
        "outputId": "ab3485b6-0302-4f02-8e02-384995855b61"
      },
      "execution_count": 1,
      "outputs": [
        {
          "output_type": "execute_result",
          "data": {
            "text/plain": [
              "(True, False)"
            ]
          },
          "metadata": {},
          "execution_count": 1
        }
      ]
    },
    {
      "cell_type": "code",
      "source": [
        "int(True), int(False)"
      ],
      "metadata": {
        "colab": {
          "base_uri": "https://localhost:8080/"
        },
        "id": "Se-ZHPeSvLh0",
        "outputId": "cb67885f-44cc-4161-d125-b09a89bdd5a5"
      },
      "execution_count": 2,
      "outputs": [
        {
          "output_type": "execute_result",
          "data": {
            "text/plain": [
              "(1, 0)"
            ]
          },
          "metadata": {},
          "execution_count": 2
        }
      ]
    },
    {
      "cell_type": "code",
      "source": [
        "3 > 1"
      ],
      "metadata": {
        "colab": {
          "base_uri": "https://localhost:8080/"
        },
        "id": "PwaWNsghvPo3",
        "outputId": "bba63aff-a1df-4869-c73c-abcf777c5efe"
      },
      "execution_count": 3,
      "outputs": [
        {
          "output_type": "execute_result",
          "data": {
            "text/plain": [
              "True"
            ]
          },
          "metadata": {},
          "execution_count": 3
        }
      ]
    },
    {
      "cell_type": "code",
      "source": [
        "a = 10\n",
        "b = 20\n",
        "a > b"
      ],
      "metadata": {
        "colab": {
          "base_uri": "https://localhost:8080/"
        },
        "id": "SnJJZFVMvTWE",
        "outputId": "b3e06a5b-ab60-43d7-86c1-e80cfbc0a4b8"
      },
      "execution_count": 5,
      "outputs": [
        {
          "output_type": "execute_result",
          "data": {
            "text/plain": [
              "False"
            ]
          },
          "metadata": {},
          "execution_count": 5
        }
      ]
    },
    {
      "cell_type": "code",
      "source": [
        "# == (동등연산자, 일치여부) / = (할당연산자, 대입연산자) / === (java 스크립트에서 사용)\n",
        "# >, <, >=, <=\n",
        "'Python' == 'python', 'Python' != 'python'"
      ],
      "metadata": {
        "colab": {
          "base_uri": "https://localhost:8080/"
        },
        "id": "WFFAwFWyvZp6",
        "outputId": "2bca0cee-39d9-4b9f-e22a-522d0f154a3e"
      },
      "execution_count": 7,
      "outputs": [
        {
          "output_type": "execute_result",
          "data": {
            "text/plain": [
              "(False, True)"
            ]
          },
          "metadata": {},
          "execution_count": 7
        }
      ]
    },
    {
      "cell_type": "code",
      "source": [
        "# 논리연산자 (1개 이상의 불을 처리하는 연산자)\n",
        "# and (그리고)\n",
        "a = 15; b = 13 # 두 줄을 합쳐주는 방법\n",
        "c, d = 10, 20 # 언팩킹 사용하는 방법\n",
        "(a > 20) and (b > 10), (a > 20) & (b > 10) "
      ],
      "metadata": {
        "colab": {
          "base_uri": "https://localhost:8080/"
        },
        "id": "n5dV1-ICvXp9",
        "outputId": "beddce94-b0e0-4dde-e856-7140751ba12a"
      },
      "execution_count": 8,
      "outputs": [
        {
          "output_type": "execute_result",
          "data": {
            "text/plain": [
              "(False, False)"
            ]
          },
          "metadata": {},
          "execution_count": 8
        }
      ]
    },
    {
      "cell_type": "code",
      "source": [
        "# or (또는)\n",
        "c != 10 or d < 100, c != 10 | d < 100 # 비교 연산자의 우선순위가 논리 연산자보다 높음\n",
        "# 웬만하면 괄호로 우선순위를 명확하게 하자"
      ],
      "metadata": {
        "colab": {
          "base_uri": "https://localhost:8080/"
        },
        "id": "lttvQl8Ew3mS",
        "outputId": "eacff096-93de-4045-b809-12f3e69439b6"
      },
      "execution_count": 9,
      "outputs": [
        {
          "output_type": "execute_result",
          "data": {
            "text/plain": [
              "(True, True)"
            ]
          },
          "metadata": {},
          "execution_count": 9
        }
      ]
    },
    {
      "cell_type": "code",
      "source": [
        "not True, not False"
      ],
      "metadata": {
        "colab": {
          "base_uri": "https://localhost:8080/"
        },
        "id": "iD9Gj5hPxzCj",
        "outputId": "eb5b96d7-3c58-4ee2-f57f-29d8dc1f7011"
      },
      "execution_count": 10,
      "outputs": [
        {
          "output_type": "execute_result",
          "data": {
            "text/plain": [
              "(False, True)"
            ]
          },
          "metadata": {},
          "execution_count": 10
        }
      ]
    },
    {
      "cell_type": "code",
      "source": [
        "bool(1), bool(0), bool(\"a\"), bool(\"\")"
      ],
      "metadata": {
        "colab": {
          "base_uri": "https://localhost:8080/"
        },
        "id": "fl6vMxsPx9fX",
        "outputId": "3353b6af-65c9-4c63-d87f-5d592fec83db"
      },
      "execution_count": 11,
      "outputs": [
        {
          "output_type": "execute_result",
          "data": {
            "text/plain": [
              "(True, False, True, False)"
            ]
          },
          "metadata": {},
          "execution_count": 11
        }
      ]
    },
    {
      "cell_type": "code",
      "source": [
        "hell = \"hell\"\n",
        "hell"
      ],
      "metadata": {
        "colab": {
          "base_uri": "https://localhost:8080/",
          "height": 35
        },
        "id": "DBBD7ahuyKvc",
        "outputId": "66609f9f-75c7-4ce6-baeb-35c2e39631e0"
      },
      "execution_count": 12,
      "outputs": [
        {
          "output_type": "execute_result",
          "data": {
            "text/plain": [
              "'hell'"
            ],
            "application/vnd.google.colaboratory.intrinsic+json": {
              "type": "string"
            }
          },
          "metadata": {},
          "execution_count": 12
        }
      ]
    },
    {
      "cell_type": "code",
      "source": [
        "hell2= 'hell'\n",
        "hell3 = '''hell'''\n",
        "hell4 = \"\"\"hell\"\"\"\n",
        "hell2, hell3, hell4"
      ],
      "metadata": {
        "colab": {
          "base_uri": "https://localhost:8080/"
        },
        "id": "ZcsDavHqyUjb",
        "outputId": "7b1fc088-0dd3-4117-9fd2-f0ebf77e0fbe"
      },
      "execution_count": 13,
      "outputs": [
        {
          "output_type": "execute_result",
          "data": {
            "text/plain": [
              "('hell', 'hell', 'hell')"
            ]
          },
          "metadata": {},
          "execution_count": 13
        }
      ]
    },
    {
      "cell_type": "code",
      "source": [
        "# 여러줄 문자열\n",
        "s1 = \"\"\"hell\n",
        "oven\n",
        "us\"\"\"\n",
        "print(s1)"
      ],
      "metadata": {
        "colab": {
          "base_uri": "https://localhost:8080/"
        },
        "id": "uRcyuTF2yf2Q",
        "outputId": "87b86816-7fb7-44fe-fb50-407fd7df57e6"
      },
      "execution_count": 14,
      "outputs": [
        {
          "output_type": "stream",
          "name": "stdout",
          "text": [
            "hell\n",
            "oven\n",
            "us\n"
          ]
        }
      ]
    },
    {
      "cell_type": "code",
      "source": [
        "s2 = '''cat\n",
        "holic'''\n",
        "print(s2)"
      ],
      "metadata": {
        "colab": {
          "base_uri": "https://localhost:8080/"
        },
        "id": "yWag40Szytnd",
        "outputId": "93a7fdd4-77c9-4442-91ef-d48e1195f101"
      },
      "execution_count": 15,
      "outputs": [
        {
          "output_type": "stream",
          "name": "stdout",
          "text": [
            "cat\n",
            "holic\n"
          ]
        }
      ]
    },
    {
      "cell_type": "code",
      "source": [
        "# ', \"를 문자열 안에 표기하기(\\: 이스케이프, \\n: 개행문자)\n",
        "print(\"\\\"를 사용해서 큰따옴표 안에 큰따옴표를 표현\\nㅎㅎ\")\n",
        "print('\\'를 사용해서 작은따옴표 안에 작은따옴표를 표현')\n",
        "print(''',\"를 여러줄 문자열 안에 따옴표를 표현''')\n",
        "print(\"\"\",\"를 여러줄 문자열 안에 따옴표를 표현\"\"\")"
      ],
      "metadata": {
        "colab": {
          "base_uri": "https://localhost:8080/"
        },
        "id": "X-Meyqn7yz2x",
        "outputId": "3f4c7a9c-f993-4f7d-a1df-0931d098d0b2"
      },
      "execution_count": 17,
      "outputs": [
        {
          "output_type": "stream",
          "name": "stdout",
          "text": [
            "\"를 사용해서 큰따옴표 안에 큰따옴표를 표현\n",
            "ㅎㅎ\n",
            "'를 사용해서 작은따옴표 안에 작은따옴표를 표현\n",
            ",\"를 여러줄 문자열 안에 따옴표를 표현\n",
            ",\"를 여러줄 문자열 안에 따옴표를 표현\n"
          ]
        }
      ]
    },
    {
      "cell_type": "code",
      "source": [
        "a = [] # 리스트 -> 0개 이상의 요소를 묶은 자료형\n",
        "b = [10, \"단어\", 1.0, True, 10 > 5]\n",
        "a, b"
      ],
      "metadata": {
        "colab": {
          "base_uri": "https://localhost:8080/"
        },
        "id": "M5bxLBsszjMh",
        "outputId": "f0de1f7d-944c-4e09-fdf8-f33a8737668d"
      },
      "execution_count": 18,
      "outputs": [
        {
          "output_type": "execute_result",
          "data": {
            "text/plain": [
              "([], [10, '단어', 1.0, True, True])"
            ]
          },
          "metadata": {},
          "execution_count": 18
        }
      ]
    },
    {
      "cell_type": "code",
      "source": [
        "c = list() # 리스트랑 비슷한 시퀀스 자료형 -> 리스트로 변환\n",
        "c"
      ],
      "metadata": {
        "colab": {
          "base_uri": "https://localhost:8080/"
        },
        "id": "qbmbziI834mv",
        "outputId": "500815d0-ee64-4625-d537-61ae8458384b"
      },
      "execution_count": 19,
      "outputs": [
        {
          "output_type": "execute_result",
          "data": {
            "text/plain": [
              "[]"
            ]
          },
          "metadata": {},
          "execution_count": 19
        }
      ]
    },
    {
      "cell_type": "code",
      "source": [
        "# 시작점을 지정해주지 않으면 0부터 시작함\n",
        "# 0, 5(끝점) / 1, 5(시작점, 끝점) / 1, 3, 5, 7, 9(시작점, 끝점, 증가폭)\n",
        "range(5), range(1, 5), range(1, 10, 2)"
      ],
      "metadata": {
        "colab": {
          "base_uri": "https://localhost:8080/"
        },
        "id": "dBqCZ6N54AAV",
        "outputId": "03d598ca-2d4f-4f77-ec97-edd93213d541"
      },
      "execution_count": 20,
      "outputs": [
        {
          "output_type": "execute_result",
          "data": {
            "text/plain": [
              "(range(0, 5), range(1, 5), range(1, 10, 2))"
            ]
          },
          "metadata": {},
          "execution_count": 20
        }
      ]
    },
    {
      "cell_type": "code",
      "source": [
        "list(range(5)), list(range(1, 5)), list(range(1, 10, 2))"
      ],
      "metadata": {
        "colab": {
          "base_uri": "https://localhost:8080/"
        },
        "id": "Fims-1hz40sK",
        "outputId": "b580975e-7025-43af-b1f0-db7403a22dbf"
      },
      "execution_count": 21,
      "outputs": [
        {
          "output_type": "execute_result",
          "data": {
            "text/plain": [
              "([0, 1, 2, 3, 4], [1, 2, 3, 4], [1, 3, 5, 7, 9])"
            ]
          },
          "metadata": {},
          "execution_count": 21
        }
      ]
    },
    {
      "cell_type": "code",
      "source": [
        "list(map(list, (range(5), range(1, 5), range(1, 10, 2))))"
      ],
      "metadata": {
        "colab": {
          "base_uri": "https://localhost:8080/"
        },
        "id": "AkxclUWd5BDB",
        "outputId": "6eaa1fdb-2d3f-4c01-b751-4f9e99e7b385"
      },
      "execution_count": 27,
      "outputs": [
        {
          "output_type": "execute_result",
          "data": {
            "text/plain": [
              "[[0, 1, 2, 3, 4], [1, 2, 3, 4], [1, 3, 5, 7, 9]]"
            ]
          },
          "metadata": {},
          "execution_count": 27
        }
      ]
    },
    {
      "cell_type": "code",
      "source": [
        "list(range(10, 1, -2))"
      ],
      "metadata": {
        "colab": {
          "base_uri": "https://localhost:8080/"
        },
        "id": "YLZn1tGe5KMy",
        "outputId": "0d924406-d909-435b-8c37-76d849ee014b"
      },
      "execution_count": 28,
      "outputs": [
        {
          "output_type": "execute_result",
          "data": {
            "text/plain": [
              "[10, 8, 6, 4, 2]"
            ]
          },
          "metadata": {},
          "execution_count": 28
        }
      ]
    },
    {
      "cell_type": "code",
      "source": [
        "t = (10, 11, 12, 13, 14)\n",
        "t"
      ],
      "metadata": {
        "colab": {
          "base_uri": "https://localhost:8080/"
        },
        "id": "WLxAdes_5wVp",
        "outputId": "2382a5f7-5232-4d82-f112-e2e5f4961f9b"
      },
      "execution_count": 29,
      "outputs": [
        {
          "output_type": "execute_result",
          "data": {
            "text/plain": [
              "(10, 11, 12, 13, 14)"
            ]
          },
          "metadata": {},
          "execution_count": 29
        }
      ]
    },
    {
      "cell_type": "code",
      "source": [
        "list(t)"
      ],
      "metadata": {
        "colab": {
          "base_uri": "https://localhost:8080/"
        },
        "id": "HnqF-HoP7ZKr",
        "outputId": "9875a95b-4f4b-4ad4-d44a-490f4333d71c"
      },
      "execution_count": 30,
      "outputs": [
        {
          "output_type": "execute_result",
          "data": {
            "text/plain": [
              "[10, 11, 12, 13, 14]"
            ]
          },
          "metadata": {},
          "execution_count": 30
        }
      ]
    },
    {
      "cell_type": "code",
      "source": [
        "t2 = 10, 12, 14, 16, 18\n",
        "t2"
      ],
      "metadata": {
        "colab": {
          "base_uri": "https://localhost:8080/"
        },
        "id": "-WanXwpq7bRp",
        "outputId": "afb653a2-cf21-4d05-d2ae-95ea14147b02"
      },
      "execution_count": 31,
      "outputs": [
        {
          "output_type": "execute_result",
          "data": {
            "text/plain": [
              "(10, 12, 14, 16, 18)"
            ]
          },
          "metadata": {},
          "execution_count": 31
        }
      ]
    },
    {
      "cell_type": "code",
      "source": [
        "t3 = (10, True, \"hello\", 1.2)\n",
        "t3"
      ],
      "metadata": {
        "colab": {
          "base_uri": "https://localhost:8080/"
        },
        "id": "qCw1xVLQ7h8w",
        "outputId": "5139abb0-d340-4667-9750-b0d938350201"
      },
      "execution_count": 33,
      "outputs": [
        {
          "output_type": "execute_result",
          "data": {
            "text/plain": [
              "(10, True, 'hello', 1.2)"
            ]
          },
          "metadata": {},
          "execution_count": 33
        }
      ]
    },
    {
      "cell_type": "code",
      "source": [
        "a = [1, 2, 3, 4]\n",
        "tuple(a)"
      ],
      "metadata": {
        "colab": {
          "base_uri": "https://localhost:8080/"
        },
        "id": "V-9-ASiM7oxf",
        "outputId": "45d7081b-ed1b-4a2c-a1b5-98461a34fe41"
      },
      "execution_count": 34,
      "outputs": [
        {
          "output_type": "execute_result",
          "data": {
            "text/plain": [
              "(1, 2, 3, 4)"
            ]
          },
          "metadata": {},
          "execution_count": 34
        }
      ]
    },
    {
      "cell_type": "code",
      "source": [
        "a, b, c = [1, 2, 3]\n",
        "a, b, c"
      ],
      "metadata": {
        "colab": {
          "base_uri": "https://localhost:8080/"
        },
        "id": "2pyvKath8ASB",
        "outputId": "910dbfa9-842f-4dc1-f9cc-a44410b82c49"
      },
      "execution_count": 35,
      "outputs": [
        {
          "output_type": "execute_result",
          "data": {
            "text/plain": [
              "(1, 2, 3)"
            ]
          },
          "metadata": {},
          "execution_count": 35
        }
      ]
    },
    {
      "cell_type": "code",
      "source": [
        "d, e, f = {4, 5, 6}\n",
        "d, e, f"
      ],
      "metadata": {
        "colab": {
          "base_uri": "https://localhost:8080/"
        },
        "id": "tCbUCmiq8HVc",
        "outputId": "f4b1b499-37dd-40ee-a5aa-6e82dcb4926d"
      },
      "execution_count": 36,
      "outputs": [
        {
          "output_type": "execute_result",
          "data": {
            "text/plain": [
              "(4, 5, 6)"
            ]
          },
          "metadata": {},
          "execution_count": 36
        }
      ]
    },
    {
      "cell_type": "code",
      "source": [
        "g = {7, 8, 9}\n",
        "h = {10, 11, 12}\n",
        "g, h"
      ],
      "metadata": {
        "colab": {
          "base_uri": "https://localhost:8080/"
        },
        "id": "D1XdFVYP8Ldx",
        "outputId": "ab9eadd4-bb19-4c5b-ca6f-d58698449252"
      },
      "execution_count": 37,
      "outputs": [
        {
          "output_type": "execute_result",
          "data": {
            "text/plain": [
              "({7, 8, 9}, {10, 11, 12})"
            ]
          },
          "metadata": {},
          "execution_count": 37
        }
      ]
    }
  ]
}